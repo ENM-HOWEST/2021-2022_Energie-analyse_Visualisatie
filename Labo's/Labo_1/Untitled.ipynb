{
 "cells": [
  {
   "cell_type": "markdown",
   "metadata": {},
   "source": [
    "# Analyse van een FLUVIUS dataset"
   ]
  },
  {
   "cell_type": "code",
   "execution_count": 41,
   "metadata": {},
   "outputs": [
    {
     "name": "stdout",
     "output_type": "stream",
     "text": [
      "Energieverbruik van IDmeter 541449500001660041 is Energie_kWh    23933050.4\n",
      "dtype: float64\n",
      "Energieverbruik van IDmeter SUB(541448860012075359) is Energie_kWh    6245982.0\n",
      "dtype: float64\n",
      "Energieverbruik van IDmeter 541448860012075359 is Energie_kWh    42482753.84\n",
      "dtype: float64\n"
     ]
    },
    {
     "data": {
      "text/plain": [
       "array(['541449500001660041', 'SUB(541448860012075359)',\n",
       "       '541448860012075359'], dtype=object)"
      ]
     },
     "execution_count": 41,
     "metadata": {},
     "output_type": "execute_result"
    },
    {
     "data": {
      "image/png": "[encoded data removed]",
      "text/plain": [
       "<Figure size 432x288 with 1 Axes>"
      ]
     },
     "metadata": {
      "needs_background": "light"
     },
     "output_type": "display_data"
    }
   ],
   "source": [
    "import numpy as np\n",
    "import pandas as pd\n",
    "import matplotlib.pyplot as plt\n",
    "\n",
    "names=['From','To','meterID','seq','Bx','23','E12-E17','kWx','A_C_I','Plaats']\n",
    "for i in np.arange(0,96):\n",
    "    names.append('kwartier_'+str(i))\n",
    "    \n",
    "data=pd.read_csv('AMR_REPORTING_EXPORT.csv',delimiter=';',index_col=False)\n",
    "data=data.iloc[:,:-5]\n",
    "data.columns=names\n",
    "\n",
    "data.From=pd.to_datetime(data['From'],format='%d%m%Y %H:%M')\n",
    "data=data.sort_values('From')\n",
    "data=data.fillna(0)\n",
    "\n",
    "inter=data.A_C_I.unique()\n",
    "\n",
    "dataAct_a=data.loc[data['A_C_I']=='A+']\n",
    "\n",
    "dataInd_a=data.loc[data['A_C_I']=='I+']\n",
    "\n",
    "dataCap_a=data.loc[data['A_C_I']=='C-']\n",
    "\n",
    "dataX=data.loc[data['A_C_I'].isna()]\n",
    "\n",
    "\n",
    "def transfoE(data,startDatum):\n",
    "    dataA=[]\n",
    "    for i in np.arange(0,data.iloc[:,0].size):\n",
    "        temp=data.iloc[i,10:].transpose().values\n",
    "        for j in np.arange(0,temp.size):\n",
    "            if not(pd.isna(temp[j])):\n",
    "                dataA.append(temp[j])\n",
    "    dataA=np.array(dataA)\n",
    "    datee=pd.date_range(start=startDatum,periods=dataA.size,freq='15T')\n",
    "    dataA=pd.DataFrame({'Date':datee,'Energie_kWh':dataA})\n",
    "    dataA=dataA.set_index('Date',drop=True)\n",
    "    dataA.Energie_kWh.plot(label='afname')\n",
    "    plt.ylabel('Energie verbruik per kwartier [kWh]')\n",
    "    return dataA\n",
    "\n",
    "# Elektriciteit\n",
    "metID='541449500001660041'\n",
    "tempo=dataAct_a[dataAct_a['meterID']==metID]\n",
    "dataA=transfoE(dataAct_a[dataAct_a['meterID']==metID],dataAct_a[dataAct_a['meterID']==metID].From.iloc[0])\n",
    "\n",
    "\n",
    "\n",
    "for i in np.arange(0,3):\n",
    "    metID=data['meterID'].unique()[i]\n",
    "    tempo=dataAct_a[dataAct_a['meterID']==metID]\n",
    "    dataA=transfoE(dataAct_a[dataAct_a['meterID']==metID],dataAct_a[dataAct_a['meterID']==metID].From.iloc[0])\n",
    "\n",
    "    print('Energieverbruik van IDmeter '+metID+' is '+str(dataA.sum()))\n",
    "    \n",
    "data['meterID'].unique()"
   ]
  },
  {
   "cell_type": "code",
   "execution_count": null,
   "metadata": {},
   "outputs": [],
   "source": [
    "\n",
    "\n",
    "\n",
    "dataA=transfoE(dataAct_a[dataAct_a['meterID']==metID],dataAct_a[dataAct_a['meterID']==metID].From.iloc[0])\n",
    "dataA.to_csv('ActieveAfname_ID'+metID+'.csv')\n",
    "\n",
    "tempo=dataInd_a[dataInd_a['meterID']==metID]\n",
    "dataI=transfoE(dataInd_a[dataInd_a['meterID']==metID],dataInd_a[dataInd_a['meterID']==metID].From.iloc[0])\n",
    "dataI.to_csv('InductieveAfname_ID'+metID+'.csv')\n",
    "\n",
    "tempo=dataCap_a[dataCap_a['meterID']==metID]\n",
    "dataI=transfoE(dataCap_a[dataCap_a['meterID']==metID],dataCap_a[dataCap_a['meterID']==metID].From.iloc[0])\n",
    "dataI.to_csv('CapacitieveAfname_ID'+metID+'.csv')"
   ]
  },
  {
   "cell_type": "code",
   "execution_count": null,
   "metadata": {},
   "outputs": [],
   "source": []
  }
 ],
 "metadata": {
  "kernelspec": {
   "display_name": "Python 3",
   "language": "python",
   "name": "python3"
  },
  "language_info": {
   "codemirror_mode": {
    "name": "ipython",
    "version": 3
   },
   "file_extension": ".py",
   "mimetype": "text/x-python",
   "name": "python",
   "nbconvert_exporter": "python",
   "pygments_lexer": "ipython3",
   "version": "3.8.3"
  },
  "toc": {
   "base_numbering": 1,
   "nav_menu": {},
   "number_sections": true,
   "sideBar": true,
   "skip_h1_title": false,
   "title_cell": "Table of Contents",
   "title_sidebar": "Contents",
   "toc_cell": false,
   "toc_position": {},
   "toc_section_display": true,
   "toc_window_display": false
  },
  "varInspector": {
   "cols": {
    "lenName": 16,
    "lenType": 16,
    "lenVar": 40
   },
   "kernels_config": {
    "python": {
     "delete_cmd_postfix": "",
     "delete_cmd_prefix": "del ",
     "library": "var_list.py",
     "varRefreshCmd": "print(var_dic_list())"
    },
    "r": {
     "delete_cmd_postfix": ") ",
     "delete_cmd_prefix": "rm(",
     "library": "var_list.r",
     "varRefreshCmd": "cat(var_dic_list()) "
    }
   },
   "position": {
    "height": "220px",
    "left": "1550px",
    "right": "20px",
    "top": "120px",
    "width": "350px"
   },
   "types_to_exclude": [
    "module",
    "function",
    "builtin_function_or_method",
    "instance",
    "_Feature"
   ],
   "window_display": true
  }
 },
 "nbformat": 4,
 "nbformat_minor": 4
}
